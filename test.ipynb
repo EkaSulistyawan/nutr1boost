{
 "cells": [
  {
   "cell_type": "code",
   "execution_count": 2,
   "metadata": {},
   "outputs": [
    {
     "data": {
      "text/plain": [
       "[{'variant_id': 332, 'rating': 'none'}]"
      ]
     },
     "execution_count": 2,
     "metadata": {},
     "output_type": "execute_result"
    }
   ],
   "source": [
    "import json\n",
    "json.loads('[{\"variant_id\":332,\"rating\":\"none\"}]')"
   ]
  },
  {
   "cell_type": "code",
   "execution_count": 3,
   "metadata": {},
   "outputs": [
    {
     "name": "stdout",
     "output_type": "stream",
     "text": [
      "Menu rating given by the user:\n",
      "332 : none\n",
      "\n"
     ]
    }
   ],
   "source": [
    "ratings = [{\"variant_id\":332,\"rating\":\"none\"}]\n",
    "stringify_rating = \"Menu rating given by the user:\\n\"\n",
    "for rating in ratings:\n",
    "    stringify_rating += f\"{rating['variant_id']} : {rating['rating']}\\n\"\n",
    "\n",
    "print(stringify_rating)"
   ]
  },
  {
   "cell_type": "code",
   "execution_count": null,
   "metadata": {},
   "outputs": [
    {
     "name": "stdout",
     "output_type": "stream",
     "text": [
      "Status Code: 200\n",
      "Response JSON: [{'additional_notes': '24 years old, 50 kg, 165 cm, lactose intolerant.', 'detail_nutritions': [\"Based on the user's age, weight, and height, the Harris-Benedict equation suggests a basal metabolic rate (BMR) around 1300 kcal, and considering a sedentary lifestyle, a minimum intake of 1600 kcal is recommended (Mifflin, M. D., St Jeor, S. T., Hill, L. A., Scott, B. J., Daugherty, S. A., & Koh, Y. O. (1990). A new predictive equation for resting energy expenditure in healthy individuals. The American Journal of Clinical Nutrition, 51(2), 241-247).\", 'The recommended daily protein intake for adults is 0.8 grams per kilogram of body weight (WHO, 2007).', 'Based on a 24-year-old female, 50 kg, and 165 cm, the minimum fat intake is calculated based on the Dietary Reference Intakes (DRI) which recommends that adults consume 20-35% of their daily calories from fat (Institute of Medicine, 2005).', 'Based on the Dietary Guidelines for Americans, the minimum carbohydrate intake for adults is 130 grams per day (U.S. Department of Health and Human Services and U.S. Department of Agriculture, 2020).', \"Given the user's age and weight, the recommended minimum daily fiber intake is around 25 grams, based on general dietary guidelines [WARNING] (https://www.nhs.uk/live-well/eat-well/how-to-get-more-fibre-into-your-diet/).\", 'The recommended daily calcium intake for adults aged 19-50 years is 1000 mg, according to the National Institutes of Health (NIH) due to its importance in bone health [WARNING] (https://ods.od.nih.gov/factsheets/Calcium-HealthProfessional/).', \"Given the user's age, weight, height, and lactose intolerance, and based on general dietary guidelines, a minimum intake of 400g of vegetables is recommended to ensure adequate nutrient intake and support overall health (WHO, 2003).\"], 'min_nutritions': [1600, 40, 33, 130, 25, 1000, 400], 'recommended_meal_detail': 'Absolutely! Here\\'s a meal plan tailored to your needs:\\n\\n**Meal Combination:**\\n\\n*   **Salt-Grilled mackerel:** A simple and healthy source of protein and omega-3s.\\n\\n    *Appeal:* \"Enjoy the natural flavors of the sea with our perfectly grilled mackerel!\"\\n    *Nutrition Note:* Provides 322 kcal of energy.\\n*   **Bang Bang Chicken Salada:** A flavorful salad with a bit of spice.\\n\\n    *Appeal:* \"Spice up your day with our tangy and refreshing Bang Bang Chicken Salada!\"\\n    *Nutrition Note:* Adds 78 kcal of energy, 6.5g of protein, and 57g of veggies.\\n*   **Broccoli broccoli:** A simple side of steamed broccoli.\\n\\n    *Appeal:* \"Boost your veggie intake with our tender and nutritious steamed broccoli!\"\\n    *Nutrition Note:* Adds 87 kcal of energy, 7g of protein, 50g of veggies and is naturally lactose-free.\\n*   **Lotus root sauteed in sugar and soy sauce:** A savory and slightly sweet side dish.\\n\\n    *Appeal:* \"Experience the unique taste and texture of lotus root with our delicately sauteed dish!\"\\n    *Nutrition Note:* Adds 48 kcal of energy and 28g of veggies.\\n\\n**Combined Nutrition Highlights:**\\n\\n*   **Energy:** 535 kcal (Target: 533.3 kcal)\\n*   **Protein:** 40 g (Target: 13.3 g)\\n*   **Veggies:** 135 g (Target: 133.3 g)\\n*   **Fiber:** 8.3 g (Target: 8.3 g)\\n\\n**Lactose Intolerance Note:** None of these dishes contain lactose!\\n\\nThis combination is a little higher in protein and fiber, but it\\'s a good balance to reach your other goals.', 'list_meals': ['bang bang chicken salada', 'lotus root sauteed in sugar and soy sauce', 'broccoli broccoli', 'salt-grilled mackerel'], 'verbose_in_function': True, 'recommended_meals': [319, 343, 322, 350], 'id': '1996e509-2d60-408c-ab71-6fee2606e216'}]\n"
     ]
    }
   ],
   "source": [
    "import requests\n",
    "# Define the API endpoint\n",
    "url = \"http://34.229.85.230:8000/api/request_recommendation/\"\n",
    "# Define the request body\n",
    "data = {\n",
    "    \"query\": \"24 years old, 50 kg, 165 cm, lactose intolerant.\"\n",
    "}\n",
    "# Send the POST request\n",
    "response = requests.post(url,json=data)\n",
    "# Print the response\n",
    "print(\"Status Code:\", response.status_code)\n",
    "print(\"Response JSON:\", response.json())  # Assuming the response is in JSON format"
   ]
  }
 ],
 "metadata": {
  "kernelspec": {
   "display_name": "Python 3",
   "language": "python",
   "name": "python3"
  },
  "language_info": {
   "codemirror_mode": {
    "name": "ipython",
    "version": 3
   },
   "file_extension": ".py",
   "mimetype": "text/x-python",
   "name": "python",
   "nbconvert_exporter": "python",
   "pygments_lexer": "ipython3",
   "version": "3.12.9"
  }
 },
 "nbformat": 4,
 "nbformat_minor": 2
}
